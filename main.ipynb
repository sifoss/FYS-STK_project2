{
 "cells": [
  {
   "cell_type": "markdown",
   "metadata": {},
   "source": [
    "# FYS - STK Project 2"
   ]
  },
  {
   "cell_type": "markdown",
   "metadata": {},
   "source": [
    "## Classification with logistic regression"
   ]
  },
  {
   "cell_type": "code",
   "execution_count": 1,
   "metadata": {
    "scrolled": true
   },
   "outputs": [
    {
     "data": {
      "text/html": [
       "<div>\n",
       "<style scoped>\n",
       "    .dataframe tbody tr th:only-of-type {\n",
       "        vertical-align: middle;\n",
       "    }\n",
       "\n",
       "    .dataframe tbody tr th {\n",
       "        vertical-align: top;\n",
       "    }\n",
       "\n",
       "    .dataframe thead th {\n",
       "        text-align: right;\n",
       "    }\n",
       "</style>\n",
       "<table border=\"1\" class=\"dataframe\">\n",
       "  <thead>\n",
       "    <tr style=\"text-align: right;\">\n",
       "      <th></th>\n",
       "      <th>mean radius</th>\n",
       "      <th>mean texture</th>\n",
       "      <th>mean perimeter</th>\n",
       "      <th>mean area</th>\n",
       "      <th>mean smoothness</th>\n",
       "      <th>mean compactness</th>\n",
       "      <th>mean concavity</th>\n",
       "      <th>mean concave points</th>\n",
       "      <th>mean symmetry</th>\n",
       "      <th>mean fractal dimension</th>\n",
       "      <th>...</th>\n",
       "      <th>worst texture</th>\n",
       "      <th>worst perimeter</th>\n",
       "      <th>worst area</th>\n",
       "      <th>worst smoothness</th>\n",
       "      <th>worst compactness</th>\n",
       "      <th>worst concavity</th>\n",
       "      <th>worst concave points</th>\n",
       "      <th>worst symmetry</th>\n",
       "      <th>worst fractal dimension</th>\n",
       "      <th>target</th>\n",
       "    </tr>\n",
       "  </thead>\n",
       "  <tbody>\n",
       "    <tr>\n",
       "      <th>0</th>\n",
       "      <td>17.99</td>\n",
       "      <td>10.38</td>\n",
       "      <td>122.80</td>\n",
       "      <td>1001.0</td>\n",
       "      <td>0.11840</td>\n",
       "      <td>0.27760</td>\n",
       "      <td>0.3001</td>\n",
       "      <td>0.14710</td>\n",
       "      <td>0.2419</td>\n",
       "      <td>0.07871</td>\n",
       "      <td>...</td>\n",
       "      <td>17.33</td>\n",
       "      <td>184.60</td>\n",
       "      <td>2019.0</td>\n",
       "      <td>0.1622</td>\n",
       "      <td>0.6656</td>\n",
       "      <td>0.7119</td>\n",
       "      <td>0.2654</td>\n",
       "      <td>0.4601</td>\n",
       "      <td>0.11890</td>\n",
       "      <td>0</td>\n",
       "    </tr>\n",
       "    <tr>\n",
       "      <th>1</th>\n",
       "      <td>20.57</td>\n",
       "      <td>17.77</td>\n",
       "      <td>132.90</td>\n",
       "      <td>1326.0</td>\n",
       "      <td>0.08474</td>\n",
       "      <td>0.07864</td>\n",
       "      <td>0.0869</td>\n",
       "      <td>0.07017</td>\n",
       "      <td>0.1812</td>\n",
       "      <td>0.05667</td>\n",
       "      <td>...</td>\n",
       "      <td>23.41</td>\n",
       "      <td>158.80</td>\n",
       "      <td>1956.0</td>\n",
       "      <td>0.1238</td>\n",
       "      <td>0.1866</td>\n",
       "      <td>0.2416</td>\n",
       "      <td>0.1860</td>\n",
       "      <td>0.2750</td>\n",
       "      <td>0.08902</td>\n",
       "      <td>0</td>\n",
       "    </tr>\n",
       "    <tr>\n",
       "      <th>2</th>\n",
       "      <td>19.69</td>\n",
       "      <td>21.25</td>\n",
       "      <td>130.00</td>\n",
       "      <td>1203.0</td>\n",
       "      <td>0.10960</td>\n",
       "      <td>0.15990</td>\n",
       "      <td>0.1974</td>\n",
       "      <td>0.12790</td>\n",
       "      <td>0.2069</td>\n",
       "      <td>0.05999</td>\n",
       "      <td>...</td>\n",
       "      <td>25.53</td>\n",
       "      <td>152.50</td>\n",
       "      <td>1709.0</td>\n",
       "      <td>0.1444</td>\n",
       "      <td>0.4245</td>\n",
       "      <td>0.4504</td>\n",
       "      <td>0.2430</td>\n",
       "      <td>0.3613</td>\n",
       "      <td>0.08758</td>\n",
       "      <td>0</td>\n",
       "    </tr>\n",
       "    <tr>\n",
       "      <th>3</th>\n",
       "      <td>11.42</td>\n",
       "      <td>20.38</td>\n",
       "      <td>77.58</td>\n",
       "      <td>386.1</td>\n",
       "      <td>0.14250</td>\n",
       "      <td>0.28390</td>\n",
       "      <td>0.2414</td>\n",
       "      <td>0.10520</td>\n",
       "      <td>0.2597</td>\n",
       "      <td>0.09744</td>\n",
       "      <td>...</td>\n",
       "      <td>26.50</td>\n",
       "      <td>98.87</td>\n",
       "      <td>567.7</td>\n",
       "      <td>0.2098</td>\n",
       "      <td>0.8663</td>\n",
       "      <td>0.6869</td>\n",
       "      <td>0.2575</td>\n",
       "      <td>0.6638</td>\n",
       "      <td>0.17300</td>\n",
       "      <td>0</td>\n",
       "    </tr>\n",
       "    <tr>\n",
       "      <th>4</th>\n",
       "      <td>20.29</td>\n",
       "      <td>14.34</td>\n",
       "      <td>135.10</td>\n",
       "      <td>1297.0</td>\n",
       "      <td>0.10030</td>\n",
       "      <td>0.13280</td>\n",
       "      <td>0.1980</td>\n",
       "      <td>0.10430</td>\n",
       "      <td>0.1809</td>\n",
       "      <td>0.05883</td>\n",
       "      <td>...</td>\n",
       "      <td>16.67</td>\n",
       "      <td>152.20</td>\n",
       "      <td>1575.0</td>\n",
       "      <td>0.1374</td>\n",
       "      <td>0.2050</td>\n",
       "      <td>0.4000</td>\n",
       "      <td>0.1625</td>\n",
       "      <td>0.2364</td>\n",
       "      <td>0.07678</td>\n",
       "      <td>0</td>\n",
       "    </tr>\n",
       "  </tbody>\n",
       "</table>\n",
       "<p>5 rows × 31 columns</p>\n",
       "</div>"
      ],
      "text/plain": [
       "   mean radius  mean texture  mean perimeter  mean area  mean smoothness  \\\n",
       "0        17.99         10.38          122.80     1001.0          0.11840   \n",
       "1        20.57         17.77          132.90     1326.0          0.08474   \n",
       "2        19.69         21.25          130.00     1203.0          0.10960   \n",
       "3        11.42         20.38           77.58      386.1          0.14250   \n",
       "4        20.29         14.34          135.10     1297.0          0.10030   \n",
       "\n",
       "   mean compactness  mean concavity  mean concave points  mean symmetry  \\\n",
       "0           0.27760          0.3001              0.14710         0.2419   \n",
       "1           0.07864          0.0869              0.07017         0.1812   \n",
       "2           0.15990          0.1974              0.12790         0.2069   \n",
       "3           0.28390          0.2414              0.10520         0.2597   \n",
       "4           0.13280          0.1980              0.10430         0.1809   \n",
       "\n",
       "   mean fractal dimension   ...    worst texture  worst perimeter  worst area  \\\n",
       "0                 0.07871   ...            17.33           184.60      2019.0   \n",
       "1                 0.05667   ...            23.41           158.80      1956.0   \n",
       "2                 0.05999   ...            25.53           152.50      1709.0   \n",
       "3                 0.09744   ...            26.50            98.87       567.7   \n",
       "4                 0.05883   ...            16.67           152.20      1575.0   \n",
       "\n",
       "   worst smoothness  worst compactness  worst concavity  worst concave points  \\\n",
       "0            0.1622             0.6656           0.7119                0.2654   \n",
       "1            0.1238             0.1866           0.2416                0.1860   \n",
       "2            0.1444             0.4245           0.4504                0.2430   \n",
       "3            0.2098             0.8663           0.6869                0.2575   \n",
       "4            0.1374             0.2050           0.4000                0.1625   \n",
       "\n",
       "   worst symmetry  worst fractal dimension  target  \n",
       "0          0.4601                  0.11890       0  \n",
       "1          0.2750                  0.08902       0  \n",
       "2          0.3613                  0.08758       0  \n",
       "3          0.6638                  0.17300       0  \n",
       "4          0.2364                  0.07678       0  \n",
       "\n",
       "[5 rows x 31 columns]"
      ]
     },
     "execution_count": 1,
     "metadata": {},
     "output_type": "execute_result"
    }
   ],
   "source": [
    "#Importing and showing the data\n",
    "import pandas as pd\n",
    "from sklearn.datasets import load_breast_cancer\n",
    "%matplotlib inline\n",
    "data = load_breast_cancer()\n",
    "df = pd.DataFrame(data.data, columns=data.feature_names)\n",
    "df['target'] = pd.Series(data.target)\n",
    "df.head()"
   ]
  },
  {
   "cell_type": "markdown",
   "metadata": {},
   "source": [
    "The data set consists of 569 measurements with 30 features, labeled in the last column shown above, as benign or malignant. This data set will be used to train two classification algorithms: Logistic regression with gradient descent and a neural network with stochastic gradient descent. This section develops the logistic regression algorithm. The data set is split into a test and train set using the sklearn method. "
   ]
  },
  {
   "cell_type": "code",
   "execution_count": 40,
   "metadata": {},
   "outputs": [
    {
     "data": {
      "text/plain": [
       "((426, 30), (426,))"
      ]
     },
     "execution_count": 40,
     "metadata": {},
     "output_type": "execute_result"
    }
   ],
   "source": [
    "from sklearn.model_selection import train_test_split\n",
    "features, target = data.data, data.target\n",
    "X_train, X_test, y_train, y_test = train_test_split(features, target)\n",
    "X_train.shape, y_train.shape"
   ]
  },
  {
   "cell_type": "markdown",
   "metadata": {},
   "source": [
    "Using just the raw data without any preprocessing:"
   ]
  },
  {
   "cell_type": "code",
   "execution_count": 3,
   "metadata": {},
   "outputs": [
    {
     "name": "stdout",
     "output_type": "stream",
     "text": [
      "tolerance not reached after 9999999 iterations. Cost gradient norm= 1.928189840580919 \n"
     ]
    }
   ],
   "source": [
    "from LogReg import LogisticRegression\n",
    "import time\n",
    "t0 = time.time()\n",
    "LR_weights = LogisticRegression(X_train, y_train,l_rate = 1e-7,\n",
    "                     tol=1e-1, max_iter = 1e+7)\n",
    "t = time.time() - t0"
   ]
  },
  {
   "cell_type": "code",
   "execution_count": 4,
   "metadata": {},
   "outputs": [
    {
     "data": {
      "text/plain": [
       "8.18062378168106"
      ]
     },
     "execution_count": 4,
     "metadata": {},
     "output_type": "execute_result"
    }
   ],
   "source": [
    "t/60"
   ]
  },
  {
   "cell_type": "markdown",
   "metadata": {},
   "source": [
    "Even with a learning rate of $10^{-7}$, and $10^7$ iterations the cost gradient norm does not converge to a value under the tolerance of 0.1."
   ]
  },
  {
   "cell_type": "markdown",
   "metadata": {},
   "source": [
    "The output of the logistic regression is an array of coefficients $\\pmb{\\beta}$ where \n",
    "$$ \\pmb{p} = \\frac{\\exp{\\pmb{X \\beta}}}{1 + \\exp{\\pmb{X \\beta}}}$$\n",
    "is the probability of the sample being in the target class. Below, the weights are applied to the test set feature matrix, and compared to the labels."
   ]
  },
  {
   "cell_type": "code",
   "execution_count": 8,
   "metadata": {},
   "outputs": [
    {
     "data": {
      "text/plain": [
       "0.958041958041958"
      ]
     },
     "execution_count": 8,
     "metadata": {},
     "output_type": "execute_result"
    }
   ],
   "source": [
    "from LogReg import test_prediction\n",
    "test_prediction(X_test, y_test, LR_weights)"
   ]
  },
  {
   "cell_type": "markdown",
   "metadata": {},
   "source": [
    "The classifier predicts over 90 \\%  of the test samples correctly. To reduce the amount of data, a PCA is applied to pick out a projection onto orthogonal subspaces where 95\\% of the variance is retained in the feature set. The features are also scaled to unit variance and the mean is substracted to hopefully improve the success rate."
   ]
  },
  {
   "cell_type": "code",
   "execution_count": 9,
   "metadata": {},
   "outputs": [
    {
     "data": {
      "text/plain": [
       "((426, 10), (143, 10))"
      ]
     },
     "execution_count": 9,
     "metadata": {},
     "output_type": "execute_result"
    }
   ],
   "source": [
    "from sklearn.preprocessing import StandardScaler\n",
    "scaler = StandardScaler()\n",
    "scaler.fit(X_train)\n",
    "X_train_processed = scaler.transform(X_train)\n",
    "X_test_processed = scaler.transform(X_test)\n",
    "\n",
    "from sklearn.decomposition import PCA\n",
    "pca= PCA(n_components=.95)\n",
    "pca.fit(X_train_processed)\n",
    "X_train_processed = pca.transform(X_train)\n",
    "X_test_processed = pca.transform(X_test)\n",
    "X_train_processed.shape, X_test_processed.shape"
   ]
  },
  {
   "cell_type": "markdown",
   "metadata": {},
   "source": [
    "PCA reduces the amount of features from 30 to 10. Applying logistic regression again:"
   ]
  },
  {
   "cell_type": "code",
   "execution_count": 10,
   "metadata": {},
   "outputs": [
    {
     "name": "stdout",
     "output_type": "stream",
     "text": [
      "tolerance not reached after 9999999 iterations. Cost gradient norm= 2.7449888836563203 \n"
     ]
    }
   ],
   "source": [
    "t0 = time.time()\n",
    "LR_weights_processed = LogisticRegression(X_train_processed, y_train,l_rate = 1e-7,\n",
    "                     tol=1e-1, max_iter = 1e+7)\n",
    "t = time.time() - t0"
   ]
  },
  {
   "cell_type": "code",
   "execution_count": 11,
   "metadata": {},
   "outputs": [
    {
     "data": {
      "text/plain": [
       "7.412001049518585"
      ]
     },
     "execution_count": 11,
     "metadata": {},
     "output_type": "execute_result"
    }
   ],
   "source": [
    "t/60"
   ]
  },
  {
   "cell_type": "code",
   "execution_count": 12,
   "metadata": {},
   "outputs": [
    {
     "data": {
      "text/plain": [
       "0.9440559440559441"
      ]
     },
     "execution_count": 12,
     "metadata": {},
     "output_type": "execute_result"
    }
   ],
   "source": [
    "test_prediction(X_test_processed, y_test, LR_weights_processed)"
   ]
  },
  {
   "cell_type": "markdown",
   "metadata": {},
   "source": [
    "The predictions are somewhat worse after preprocessing, but the algorithm is slighly faster, although not significantly. The algorithm terminates at a higher value for the cost gradient norm, but this is to be expected after PCA. Further reduction of the learning rate does not improve results markedly without allowing an extremely many iterations and a lot of spare time. The higly optimized scikit-learn library provides a fast logistic regression method:"
   ]
  },
  {
   "cell_type": "code",
   "execution_count": 13,
   "metadata": {},
   "outputs": [
    {
     "name": "stderr",
     "output_type": "stream",
     "text": [
      "/anaconda3/lib/python3.7/site-packages/sklearn/linear_model/logistic.py:433: FutureWarning: Default solver will be changed to 'lbfgs' in 0.22. Specify a solver to silence this warning.\n",
      "  FutureWarning)\n"
     ]
    },
    {
     "data": {
      "text/plain": [
       "0.9300699300699301"
      ]
     },
     "execution_count": 13,
     "metadata": {},
     "output_type": "execute_result"
    }
   ],
   "source": [
    "from sklearn.linear_model import LogisticRegression as sklearn_LR\n",
    "clf = sklearn_LR()\n",
    "clf.fit(X_train_processed, y_train)\n",
    "clf.score(X_test_processed, y_test)\n"
   ]
  },
  {
   "cell_type": "code",
   "execution_count": 14,
   "metadata": {},
   "outputs": [
    {
     "name": "stderr",
     "output_type": "stream",
     "text": [
      "/anaconda3/lib/python3.7/site-packages/sklearn/linear_model/logistic.py:433: FutureWarning: Default solver will be changed to 'lbfgs' in 0.22. Specify a solver to silence this warning.\n",
      "  FutureWarning)\n"
     ]
    },
    {
     "data": {
      "text/plain": [
       "0.951048951048951"
      ]
     },
     "execution_count": 14,
     "metadata": {},
     "output_type": "execute_result"
    }
   ],
   "source": [
    "from sklearn.linear_model import LogisticRegression as sklearn_LR\n",
    "clf.fit(X_train, y_train)\n",
    "clf.score(X_test, y_test)\n"
   ]
  },
  {
   "cell_type": "markdown",
   "metadata": {},
   "source": [
    "This method produces similar prediction accuracy as the home made algorithm both with and without preprocessing"
   ]
  },
  {
   "cell_type": "markdown",
   "metadata": {},
   "source": [
    "## Classification with a neural network"
   ]
  },
  {
   "cell_type": "markdown",
   "metadata": {},
   "source": [
    "We now attempt the same classification task with a neural network. The network is set up with a stochastic gradient descent solver. The hidden layer activation functions are exponential liear units, while in the last layer softmax is used to produce outputs that can be interpreted as probabilities, i.e. they sum to one. The ELU activations are chosen over the sigmoid after some trial and error, because the networks tens to predict output 0 for all samples, for almost all tests of $\\lambda$ and $\\eta$ values. The cost function is the log likelihood. This task could in principle be done with one output neuron using cross-entropy cost, but because the softmax log likelihood can also be applied to multiclass classification, it is chosen as the classifiaction method, allowing for a more flexible algorithm. "
   ]
  },
  {
   "cell_type": "markdown",
   "metadata": {},
   "source": [
    "The network is initialized with 30 neurons in the input layer, 50 hidden neurons and 2 output neurons, and the binary target vector is one hot-transformed, i.e.\n",
    "$$ 1 \\rightarrow \\pmatrix{1\\\\ 0} \\text{  ,  }0 \\rightarrow \\pmatrix{0\\\\ 1}. $$\n",
    "To find the best regualarization parameter and learning rate, a grid search is performed. I have already searched a bit for the best parameters, and the network predicts only zeros for learning rates over $10^{-4}$, so the grid search is performed over a logspace of $\\lambda$, but a linear space over over $\\eta$. I have also previously narrowed down the choice of viable batch sizes, number of epochs, hidden layer size and ELU parameters. Because the data set is so small, adding more hidden layers does not improve the prediction."
   ]
  },
  {
   "cell_type": "code",
   "execution_count": 19,
   "metadata": {},
   "outputs": [],
   "source": [
    "import numpy as np\n",
    "from NeuralNetwork import Network, OneHot\n",
    "y_train_onehot = OneHot(y_train)"
   ]
  },
  {
   "cell_type": "code",
   "execution_count": 20,
   "metadata": {},
   "outputs": [],
   "source": [
    "\n",
    "\n",
    "\n",
    "def grid_search(eta_vals, lmbda_vals):\n",
    "    train_accuracy = np.zeros((len(eta_vals), len(lmbd_vals)))\n",
    "    test_accuracy = np.zeros((len(eta_vals), len(lmbd_vals)))\n",
    "    for i, eta in enumerate(eta_vals):\n",
    "        for j, lmbd in enumerate(lmbd_vals):\n",
    "            nn = Network([X_train_processed.shape[1], 20, 2], \n",
    "                                activation_function = 'ELU',\n",
    "                                activation_function_param = 0.6,\n",
    "                                task = 'classification')\n",
    "\n",
    "            nn.train(X_train_processed,\n",
    "                     y_train_onehot,\n",
    "                     epochs = 50,\n",
    "                     batch_size = 10,\n",
    "                     l_rate = eta,\n",
    "                     lmbd = lmbd)\n",
    "\n",
    "\n",
    "\n",
    "            train_accuracy[i][j] = nn.accuracy(X_train_processed, y_train)\n",
    "            test_accuracy[i][j] = nn.accuracy(X_test_processed, y_test)\n",
    "\n",
    "    import seaborn as sns, matplotlib.pyplot as plt\n",
    "    sns.set()\n",
    "\n",
    "    fig, ax = plt.subplots(figsize = (10, 10))\n",
    "    sns.heatmap(train_accuracy, annot=True, ax=ax, cmap=\"viridis\")\n",
    "    ax.set_title(\"Training Accuracy\")\n",
    "    ax.set_ylabel(\"$\\eta$\")\n",
    "    ax.set_xlabel(\"$\\lambda$\")\n",
    "    plt.show()\n",
    "\n",
    "    fig, ax = plt.subplots(figsize = (10, 10))\n",
    "    sns.heatmap(test_accuracy, annot=True, ax=ax, cmap=\"viridis\")\n",
    "    ax.set_title(\"Test Accuracy\")\n",
    "    ax.set_ylabel(\"$\\eta$\")\n",
    "    ax.set_xlabel(\"$\\lambda$\")\n",
    "    plt.show()"
   ]
  },
  {
   "cell_type": "code",
   "execution_count": 21,
   "metadata": {},
   "outputs": [
    {
     "name": "stderr",
     "output_type": "stream",
     "text": [
      "/Users/sigbjornfoss/Documents/FYS-STK/project2/NeuralNetwork.py:164: RuntimeWarning: invalid value encountered in true_divide\n",
      "  return z_exp/np.sum(z_exp, axis=1, keepdims=True)\n",
      "/Users/sigbjornfoss/Documents/FYS-STK/project2/NeuralNetwork.py:134: RuntimeWarning: invalid value encountered in less\n",
      "  return np.where(z<0, param*(np.exp(z) - 1), z)\n",
      "/Users/sigbjornfoss/Documents/FYS-STK/project2/NeuralNetwork.py:132: RuntimeWarning: invalid value encountered in less\n",
      "  return np.where(z<0, param*np.exp(z), 1.)\n"
     ]
    },
    {
     "data": {
      "image/png": "[encoded data removed]",
      "text/plain": [
       "<Figure size 720x720 with 2 Axes>"
      ]
     },
     "metadata": {},
     "output_type": "display_data"
    },
    {
     "data": {
      "image/png": "[encoded data removed]",
      "text/plain": [
       "<Figure size 720x720 with 2 Axes>"
      ]
     },
     "metadata": {},
     "output_type": "display_data"
    }
   ],
   "source": [
    "eta_vals = np.linspace(1e-6, 1e-4, 7)\n",
    "lmbd_vals = np.logspace(-5, 1, 7)\n",
    "grid_search(eta_vals, lmbd_vals)"
   ]
  },
  {
   "cell_type": "code",
   "execution_count": 22,
   "metadata": {},
   "outputs": [
    {
     "data": {
      "text/plain": [
       "(5.05e-05, 0.01)"
      ]
     },
     "execution_count": 22,
     "metadata": {},
     "output_type": "execute_result"
    }
   ],
   "source": [
    "eta_vals[3], lmbd_vals[3]"
   ]
  },
  {
   "cell_type": "markdown",
   "metadata": {},
   "source": [
    "There are a few options which produce decent results, so we can choose $\\eta = 5.05 \\cdot 10^{-5}$ and $\\lambda = 0.01$ for instance, following a general heuristic that we should use some significant regularization parameter. Ideally, a grid search should be performed over the other parameters as well. Again, Scikit-learn provides a method for classification with a neural net, and the prediction accuracy is about the same as for the home made net best prediction overall.  "
   ]
  },
  {
   "cell_type": "code",
   "execution_count": 24,
   "metadata": {},
   "outputs": [
    {
     "data": {
      "text/plain": [
       "0.9300699300699301"
      ]
     },
     "execution_count": 24,
     "metadata": {},
     "output_type": "execute_result"
    }
   ],
   "source": [
    "from sklearn.neural_network import MLPClassifier\n",
    "MLPclf = MLPClassifier()\n",
    "MLPclf.fit (X_train, y_train)\n",
    "MLPclf.score(X_test, y_test)"
   ]
  },
  {
   "cell_type": "markdown",
   "metadata": {},
   "source": [
    "## Regression with a neural network"
   ]
  },
  {
   "cell_type": "markdown",
   "metadata": {},
   "source": [
    "Importing the Franke function and generating the regression data set"
   ]
  },
  {
   "cell_type": "code",
   "execution_count": 25,
   "metadata": {},
   "outputs": [
    {
     "data": {
      "text/plain": [
       "(1875, 36)"
      ]
     },
     "execution_count": 25,
     "metadata": {},
     "output_type": "execute_result"
    }
   ],
   "source": [
    "from Reg_class import DesignMatrix, FrankeFunction\n",
    "import numpy as np\n",
    "n = 50\n",
    "p = 5\n",
    "k = 5\n",
    "x = np.sort(np.random.rand(n))\n",
    "y = np.sort(np.random.rand(n))\n",
    "\n",
    "x_, y_ = np.meshgrid(x, y)\n",
    "\n",
    "noise = 0.1*np.random.randn(n, n)\n",
    "\n",
    "z_ = FrankeFunction(x, y) + noise\n",
    "\n",
    "x, y, z = x_.reshape(n**2, 1), y_.reshape(n**2, 1), z_.reshape(n**2, 1)\n",
    "X = DesignMatrix(x, y, p)\n",
    "\n",
    "X_reg_train, X_reg_test, y_reg_train, y_reg_test = train_test_split(X, z)\n",
    "\n",
    "X_reg_train.shape"
   ]
  },
  {
   "cell_type": "markdown",
   "metadata": {},
   "source": [
    "We define a new grid search function for regression, now testing the MSE and R2"
   ]
  },
  {
   "cell_type": "code",
   "execution_count": 26,
   "metadata": {},
   "outputs": [],
   "source": [
    "from Reg_class import MSE, R2\n",
    "def grid_search_reg(eta_vals, lmbda_vals):\n",
    "    train_MSE = np.zeros((len(eta_vals), len(lmbd_vals)))\n",
    "    test_MSE = np.zeros((len(eta_vals), len(lmbd_vals)))\n",
    "    \n",
    "    train_R2 = np.zeros((len(eta_vals), len(lmbd_vals)))\n",
    "    test_R2 = np.zeros((len(eta_vals), len(lmbd_vals)))\n",
    "    \n",
    "    for i, eta in enumerate(eta_vals):\n",
    "        for j, lmbd in enumerate(lmbd_vals):\n",
    "            nn = Network([X_reg_train.shape[1], 20, 1], \n",
    "                                activation_function = 'ELU',\n",
    "                                activation_function_param = 0.9,\n",
    "                                task = 'regression')\n",
    "\n",
    "            nn.train(X_reg_train,\n",
    "                     y_reg_train,\n",
    "                     epochs = 200,\n",
    "                     batch_size = 20,\n",
    "                     l_rate = eta,\n",
    "                     lmbd = lmbd)\n",
    "\n",
    "\n",
    "\n",
    "            train_MSE[i][j] = MSE(y_reg_train, nn.predict(X_reg_train))\n",
    "            test_MSE[i][j] = MSE(y_reg_test, nn.predict(X_reg_test))\n",
    "\n",
    "    import seaborn as sns, matplotlib.pyplot as plt\n",
    "    sns.set()\n",
    "\n",
    "    fig, ax = plt.subplots(figsize = (10, 10))\n",
    "    sns.heatmap(train_MSE, annot=True, ax=ax, cmap=\"viridis\")\n",
    "    ax.set_title(\"Training MSE\")\n",
    "    ax.set_ylabel(\"$\\eta$\")\n",
    "    ax.set_xlabel(\"$\\lambda$\")\n",
    "    plt.show()\n",
    "\n",
    "    fig, ax = plt.subplots(figsize = (10, 10))\n",
    "    sns.heatmap(test_MSE, annot=True, ax=ax, cmap=\"viridis\")\n",
    "    ax.set_title(\"Test MSE\")\n",
    "    ax.set_ylabel(\"$\\eta$\")\n",
    "    ax.set_xlabel(\"$\\lambda$\")\n",
    "    plt.show()"
   ]
  },
  {
   "cell_type": "code",
   "execution_count": 27,
   "metadata": {},
   "outputs": [
    {
     "name": "stderr",
     "output_type": "stream",
     "text": [
      "/Users/sigbjornfoss/Documents/FYS-STK/project2/NeuralNetwork.py:124: RuntimeWarning: invalid value encountered in true_divide\n",
      "  sigm = np.exp(z)/(1 + np.exp(z))# into the ActivationFunction class\n",
      "/Users/sigbjornfoss/Documents/FYS-STK/project2/NeuralNetwork.py:134: RuntimeWarning: invalid value encountered in less\n",
      "  return np.where(z<0, param*(np.exp(z) - 1), z)\n",
      "/Users/sigbjornfoss/Documents/FYS-STK/project2/NeuralNetwork.py:132: RuntimeWarning: invalid value encountered in less\n",
      "  return np.where(z<0, param*np.exp(z), 1.)\n"
     ]
    },
    {
     "data": {
      "image/png": "[encoded data removed]",
      "text/plain": [
       "<Figure size 720x720 with 2 Axes>"
      ]
     },
     "metadata": {},
     "output_type": "display_data"
    },
    {
     "data": {
      "image/png": "[encoded data removed]",
      "text/plain": [
       "<Figure size 720x720 with 2 Axes>"
      ]
     },
     "metadata": {},
     "output_type": "display_data"
    }
   ],
   "source": [
    "eta_vals = np.logspace(-5, 1, 7)\n",
    "grid_search_reg(eta_vals, lmbd_vals)"
   ]
  },
  {
   "cell_type": "code",
   "execution_count": 42,
   "metadata": {},
   "outputs": [
    {
     "data": {
      "text/plain": [
       "(0.1, 0.0001)"
      ]
     },
     "execution_count": 42,
     "metadata": {},
     "output_type": "execute_result"
    }
   ],
   "source": [
    "eta_vals[4], lmbd_vals[1]"
   ]
  },
  {
   "cell_type": "markdown",
   "metadata": {},
   "source": [
    "There are a range of parameter values that give a decent fit, an we choose one of the instances whith an MSE of around 0.02"
   ]
  },
  {
   "cell_type": "code",
   "execution_count": 43,
   "metadata": {
    "scrolled": true
   },
   "outputs": [
    {
     "data": {
      "text/plain": [
       "(0.020573824474577156, 0.8088925815585878)"
      ]
     },
     "execution_count": 43,
     "metadata": {},
     "output_type": "execute_result"
    }
   ],
   "source": [
    "nn = Network([X_reg_train.shape[1], 20, 1], \n",
    "                                activation_function = 'ELU',\n",
    "                                activation_function_param = 0.9,\n",
    "                                task = 'regression')\n",
    "\n",
    "nn.train(X_reg_train,\n",
    "                 y_reg_train,\n",
    "                 epochs = 200,\n",
    "                 batch_size = 20,\n",
    "                 l_rate = eta_vals[3],\n",
    "                 lmbd = lmbd_vals[1])\n",
    "\n",
    "y_reg_pred = nn.predict(X_reg_test)\n",
    "\n",
    "MSE(y_reg_test, y_reg_pred), R2(y_reg_test, y_reg_pred)"
   ]
  },
  {
   "cell_type": "markdown",
   "metadata": {},
   "source": [
    "We can test the results against the polynomial regression algorithm from project 1"
   ]
  },
  {
   "cell_type": "code",
   "execution_count": 36,
   "metadata": {},
   "outputs": [
    {
     "data": {
      "text/plain": [
       "(0.013313755163610719, 0.8763303642342871)"
      ]
     },
     "execution_count": 36,
     "metadata": {},
     "output_type": "execute_result"
    }
   ],
   "source": [
    "from Reg_class import Polyfit\n",
    "\n",
    "reg = Polyfit()\n",
    "reg.fit(X_reg_train, y_reg_train, 'ridge')\n",
    "y_ridge_pred = reg.predict(X_reg_test)\n",
    "\n",
    "MSE(y_reg_test, y_ridge_pred), R2(y_reg_test, y_ridge_pred)"
   ]
  }
 ],
 "metadata": {
  "kernelspec": {
   "display_name": "Python 3",
   "language": "python",
   "name": "python3"
  },
  "language_info": {
   "codemirror_mode": {
    "name": "ipython",
    "version": 3
   },
   "file_extension": ".py",
   "mimetype": "text/x-python",
   "name": "python",
   "nbconvert_exporter": "python",
   "pygments_lexer": "ipython3",
   "version": "3.7.1"
  }
 },
 "nbformat": 4,
 "nbformat_minor": 2
}
